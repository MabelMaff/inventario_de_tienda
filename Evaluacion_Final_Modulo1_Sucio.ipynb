{
 "cells": [
  {
   "cell_type": "code",
   "execution_count": null,
   "metadata": {},
   "outputs": [],
   "source": [
    "# INSTRUCCIONES\n",
    "\n",
    "# - Esta evaluación consta de una serie de preguntas que evalúan tu comprensión y habilidades en\n",
    "# relación con funciones, clases y regex.\n",
    "# - Puedes usar recursos externos, incluyendo internet y materiales de referencia o tus propias\n",
    "# notas.\n",
    "# - Completa los ejercicios en un jupyter notebook.\n",
    "# - Entrega: Tienes que crearte un repositorio en la que tenga el siguiente nombre promo-G-DAmodulo1-\n",
    "# evaluacion-final-vuestronombre."
   ]
  },
  {
   "cell_type": "code",
   "execution_count": null,
   "metadata": {},
   "outputs": [],
   "source": [
    "#EJERCICIO\n",
    "\n",
    "# - A lo largo de esta evaluación tendrás que crear una clase llamada TiendaOnline que cumpla los\n",
    "# siguientes requisitos:\n",
    "\n",
    "# La clase TiendaOnline debe tener los siguientes atributos:\n",
    "# 1. inventario (lista de diccionarios): Un atributo para almacenar los productos en\n",
    "# el inventario. Cada producto debe ser representado como un diccionario con las\n",
    "# siguientes claves: 'nombre', 'precio', y 'cantidad'. \n",
    "# Al principio deberá ser una lista vacía. Ejemplo de como debería ser:\n",
    "# [{'nombre': 'Camisa', 'precio': 20, 'cantidad': 40},\n",
    "# {'nombre': 'Pantalón', 'precio': 30, 'cantidad': 30}]\n",
    "\n",
    "# 2. clientes (diccionario): Un atributo para llevar un registro de los clientes de la\n",
    "# tienda. Cada cliente debe ser representado como un diccionario con las\n",
    "# siguientes claves: 'nombre' y 'email'. Al inicio deberá ser un diccionario vacío.\n",
    "\n",
    "# Además, cada cliente debe tener un historial de compras. Deberá parecerse a:\n",
    "# {'Cliente1': {'email': 'cliente1@email.com', 'compras': []},\n",
    "# 'Cliente2': {'email': 'cliente2@email.com', 'compras': []}}\n",
    "\n",
    "# 3. ventas_totales (float): Un atributo para llevar un registro de las ventas totales\n",
    "# de la tienda. Inicializalo con valor 0.\n",
    "\n",
    "# La clase TiendaOnline debe tener los siguientes métodos:\n",
    "# 4. agregar_producto(self, nombre, precio, cantidad): Este método agrega\n",
    "# un producto al inventario o actualiza su cantidad si ya existe. Debe recibir el\n",
    "# nombre, precio y cantidad del producto como parámetros.\n",
    "# ￿ Itera a través del inventario y compara los nombres de los productos con\n",
    "# el nombre proporcionado.\n",
    "# ￿ Si el producto ya existe, actualiza la cantidad.\n",
    "# ￿ Si no existe, agrega un nuevo producto al inventario.\n",
    "\n",
    "# 5. ver_inventario(self): Muestra el inventario de productos con sus detalles.\n",
    "# ￿ Utiliza un bucle for para recorrer el inventario.\n",
    "# ￿ Imprime los detalles (nombre, precio, cantidad) de cada producto.\n",
    "# ￿ Debería verse:\n",
    "# Nombre: Camisa, Precio: $20, Cantidad: 50\n",
    "# Nombre: Pantalón, Precio: $30, Cantidad: 30\n",
    "# Nombre: Zapatos, Precio: $50, Cantidad: 40\n",
    "# Nombre: Camisa, Precio: $20, Cantidad: 50\n",
    "\n",
    "# 6. buscar_producto(self, nombre): Busca un producto en el inventario por\n",
    "# nombre y muestra sus detalles si se encuentra. Debe recibir el nombre del\n",
    "# producto como parámetro.\n",
    "# ￿ Utiliza un bucle for para recorrer el inventario.\n",
    "# ￿ Compara los nombres de los productos con el nombre proporcionado.\n",
    "# ￿ Si se encuentra el producto, imprime sus detalles.\n",
    "# ￿ Debe mostrar:\n",
    "# Nombre: Camisa, Precio: $20, Cantidad: 40\n",
    "\n",
    "# 7. actualizar_stock(self, nombre, cantidad): Actualiza el stock de un\n",
    "# producto en el inventario. Debe recibir el nombre del producto y la cantidad a\n",
    "# agregar o quitar como parámetros.\n",
    "# ￿ Utiliza un bucle for para recorrer el inventario.\n",
    "# ￿ Busca el producto por nombre.\n",
    "# ￿ Actualiza la cantidad según la entrada del usuario.\n",
    "# ￿ Si el producto no esta en el inventario muestra un mensaje indicándolo.\n",
    "\n",
    "# 8. eliminar_producto(self, nombre): Elimina un producto del inventario por\n",
    "# nombre. Debe recibir el nombre del producto como parámetro.\n",
    "# ￿ Utiliza un bucle for para recorrer el inventario.\n",
    "# ￿ Busca el producto por nombre.\n",
    "# ￿ Elimina el producto del inventario si existe.\n",
    "# ￿ Si el producto no esta en el inventario muestra un mensaje indicándolo.\n",
    "\n",
    "# 9. calcular_valor_inventario(self): Calcula y muestra el valor total del\n",
    "# inventario.\n",
    "# ￿ Utiliza un bucle for para calcular el valor total del inventario.\n",
    "# ￿ Itera a través del inventario y suma el valor de cada producto (precio x\n",
    "# cantidad). Es decir, calcula el valor total del inventario. Ejemplo:\n",
    "# # si tenemos 5 camisas que valen 5 euros\n",
    "# # y 10 calcetines que valen 1 euro\n",
    "# # este método te tiene que devolver: 35 euros\n",
    "# valor_camisas = 5 * 5\n",
    "# valor_calcetines = 10 * 1\n",
    "# valor_camisas + valor_calcetines = 35\n",
    "\n",
    "# 10. realizar_compra(self): Permite a un cliente realizar una compra\n",
    "# seleccionando productos del inventario. Debe interactuar con el cliente para\n",
    "# seleccionar productos y calcular el costo total de la compra.\n",
    "# ￿ Utiliza un bucle while para permitir al cliente realizar múltiples compras.\n",
    "# ￿ Muestra el inventario y solicita al cliente ingresar el nombre del\n",
    "# producto que desea comprar.\n",
    "# ￿ Registra los productos seleccionados en un carrito y actualiza el\n",
    "# inventario.\n",
    "# ￿ Calcula el costo total de la compra."
   ]
  },
  {
   "cell_type": "code",
   "execution_count": null,
   "metadata": {},
   "outputs": [],
   "source": [
    "#CREACIÓN DE CLASE, CONSTRUCTOR Y ATRIBUTOS"
   ]
  },
  {
   "cell_type": "code",
   "execution_count": null,
   "metadata": {},
   "outputs": [],
   "source": [
    "# # Creo clase que se llame TiendaOnline. \n",
    "# class TiendaOnline:\n",
    "    \n",
    "# #Añado los atributos y el constructor.Se me había olvidado la identación del 'def', así que el primer Run ha dado error.\n",
    "#  def __init__(self, inventario, clientes, ventas_totales=0):\n",
    "#     #Constructor.\n",
    "#     self.inventario = inventario\n",
    "#     self.clientes = clientes\n",
    "#     self.ventas_totales = ventas_totales"
   ]
  },
  {
   "cell_type": "code",
   "execution_count": null,
   "metadata": {},
   "outputs": [],
   "source": []
  },
  {
   "cell_type": "code",
   "execution_count": null,
   "metadata": {},
   "outputs": [],
   "source": [
    "# #MÉTODO AGREGAR PRODUCTOS AL INVENTARIO\n",
    "\n",
    "# #Añado los diccionarios para inventario.Me he confundido al leer el enunciado y esto es lo primero que hacía: \n",
    "# #inventario = diccionario_inventatio = {}\n",
    "\n",
    "# #Después he hecho esto. Creación de listas de diccionarios:\n",
    "# # inventario = lista_diccionarios_inventario = [{'nombre', 'precio', 'cantidad'},\n",
    "# #                                               {'nombre', 'precio', 'cantidad'},\n",
    "# #                                               {}] LOS NERVIOS!\n",
    "# #He empezado a hacerlo así y me he parado porque he pensado quew no tenía lógica.\n",
    "# #He mirado apuntes y lo he hecho así:\n",
    "# # inventario = lista_diccionarios_inventario = [{'nombre', 'precio', 'cantidad'}]\n",
    "# # nombre = []\n",
    "# # precio = []\n",
    "# # cantidad = []\n",
    "# #Aunque funcionaba, al modificar el código de abajo. he decidio optimizar también este:\n",
    "# inventario = diccionario_inventario = dict.fromkeys (['nombre', 'precio', 'cantidad'])\n",
    "# #Hago que el diccionario sea una lista de diccionarios:\n",
    "# lista_diccionario_inventario = list (diccionario_inventario)\n",
    "\n",
    "# #Establezco las listas donde se guardarán los datos nuevos. \n",
    "# nombre = []\n",
    "# precio = []\n",
    "# cantidad = []\n",
    "\n",
    "# #Primer intento de crear diccionario de clientes:\n",
    "# # clientes = diccionario = {'cliente', 'email', compras = []}\n",
    "\n",
    "# #Segundo intento de creación de diccionario para clientes:\n",
    "# # clientes = diccionario_clientes = {'cliente', 'email', 'compras'}\n",
    "# # compras = []\n",
    "\n",
    "# #Tercer intento de crear diccionario de clientes. Lo he visto en los apuntes buscando otra cosa y me ha gustado más:\n",
    "# clientes = dict.fromkeys(['cliente', 'email', 'compras'])\n",
    "# cliente = []\n",
    "# email = []\n",
    "# compras = []"
   ]
  },
  {
   "cell_type": "code",
   "execution_count": null,
   "metadata": {},
   "outputs": [],
   "source": [
    "# #Creación de atributo para llevar registro de las ventas totales inicializado a cero:\n",
    "# ventas_totales = 0"
   ]
  },
  {
   "cell_type": "code",
   "execution_count": null,
   "metadata": {},
   "outputs": [],
   "source": [
    "#CREACIÓN DEL PRIMER MÉTODO"
   ]
  },
  {
   "cell_type": "code",
   "execution_count": null,
   "metadata": {},
   "outputs": [],
   "source": [
    "# #MÉTODO AGREGAR PRODUCTOS AL INVENTARIO\n",
    "\n",
    "# #Primer intento de crear el método:\n",
    "# def agregar_producto(self, nombre, precio, cantidad): \n",
    "# #     Este método agrega\n",
    "# # un producto al inventario o actualiza su cantidad si ya existe. Debe recibir el\n",
    "# # nombre, precio y cantidad del producto como parámetros.\n",
    "\n",
    "# #     Itera a través del inventario y compara los nombres de los productos con\n",
    "# # el nombre proporcionado.\n",
    "# #Hago un input para que el usuario pueda poner el nombre que quiera para agregar al inventario. Le añado str para asegurare de que es un string.\n",
    "#       nombre_proporcionado = input (\"Introduce aquí el nombre para agregar al inventario: \").lower () #Le añado .lower () para que no me de error si introduce mayúsculas.\n",
    "#       #Empiezo un condicional con if para comprobar que se cumpla la con dición para seguir con el código.\n",
    "#       # Si el producto ya existe, actualiza la cantidad.\n",
    "#       if nombre_proporcionado in nombre: \n",
    "#             cantidad.append (nombre_proporcionado)\n",
    "#             print (f\"Ese artículo ya está en el inventario, ocupa el {nombre.index (nombre_proporcionado)}.Ha sido sumada la cantidad de este producto\")\n",
    "#             return cantidad\n",
    "#       #Si no existe, agrega un nuevo producto al inventario.Creo un elif para la segunda condición.\n",
    "#       elif nombre_proporcionado not in nombre: \n",
    "#             #Creo el mensaje para el usuario, para que sepa que no está en el inventario. \n",
    "#             print (f\"{nombre_proporcionado} no se encuentra en el inventario.\")\n",
    "#             #Creo una variable para que el usuario pueda introducir el precio del producto.\n",
    "#             precio_proporcionado = float.input (f\"Por favor, introduzca el precio de {nombre_proporcionado}.\")\n",
    "#             #Creo una variable para que el usuario pueda introducir la cantidad del producto:\n",
    "#             cantidad_proporcionada = int.input (f\"Introduzca, ahora, la cantidad que va añadir al inventario de {nombre_proporcionado}\")\n",
    "#             #Creo el bloque para que se añada el producto al inventario: \n",
    "#             añado_producto = nombre.append (nombre_proporcionado); \n",
    "#             precio.append (precio_proporcionado) ; \n",
    "#             cantidad.append (cantidad_proporcionada)\n",
    "#             #Hago un return para ver si se ha añadido bien:\n",
    "#             return añado_producto\n",
    "#       #He pensado que sería útil que hubiera una parte del código que midiera que introdujeses un valor válido. \n",
    "#       #He buscado en internet y he encontrado este método: \n",
    "#       else:\n",
    "#             pass #Pongo un pass para que no haga nada. "
   ]
  },
  {
   "cell_type": "code",
   "execution_count": null,
   "metadata": {},
   "outputs": [],
   "source": [
    "_______________________________________________________________________________________________________________________________"
   ]
  },
  {
   "cell_type": "code",
   "execution_count": null,
   "metadata": {},
   "outputs": [],
   "source": [
    "# #Al llegar a este punto me he dado cuenta de que me había complicado mucho la cabeza, gracias a volver a mirar los apuntes y el vídeo sobre clases.\n",
    "# #Así que he vuelto empezar y he conservado lo que me valía.\n",
    "\n",
    "# class TiendaOnline:\n",
    "    \n",
    "#     def __init__(self, nombres, precios, inventarios, ventas_totales = 0):#Lo he puesto aquí por que el profesor dijo que era mejor para después. \n",
    "#         #Inicio nombres, precios e inventarios como listas. Ya después miraré cómo lo convierto a diccionario sin más. \n",
    "#         diccionario_listas = {self.nombres = [], self.precios = [0], self.cantidades = [0]}\n",
    "        \n",
    "#         # Diccionario para almacenar información de los clientes\n",
    "#         self.clientes = {}\n",
    "        \n",
    "#         # Variable para llevar un registro de las ventas totales \n",
    "#         self.ventas_totales = ventas_totales  \n",
    "        \n",
    "#         #¡MUCHO MEJOR ASÍ MÁBEL!Y PARECE QUE FUNCIONA!\n",
    "        \n",
    "        \n",
    "#         def agregar_producto(self, nombres, precios, cantidades):\n",
    "#             nombre_proporcionado = input(\"Introduzca aquí el nombre para agregar al inventario: \").lower() \n",
    "            \n",
    "#             # Verificar si el producto ya existe en el inventario:\n",
    "#             if nombre_proporcionado in self.nombres:\n",
    "#             # Añadido. Si el producto existe, obtener su índice:\n",
    "#                 indice = self.nombres.index(nombre_proporcionado)\n",
    "\n",
    "#             # Solicitar al usuario la cantidad del producto a añadir y asegurarse de que sea un entero:\n",
    "#                 cantidad_proporcionada = int(input(f\"Introduce la cantidad para añadir de {nombre_proporcionado}: \"))\n",
    "\n",
    "#             # Actualizar la cantidad del producto\n",
    "#                 self.cantidades += cantidad_proporcionada\n",
    "#                 print(f\"Cantidad actualizada, ahora hay {self.cantidades} de {nombre_proporcionado}.\")\n",
    "            \n",
    "#             elif nombre_proporcionado not in self.nombres:\n",
    "#             #Si el producto no existe decirle que no existe:\n",
    "#                 print (f\"{nombre_proporcionado} no existe en el inventario.\")\n",
    "            \n",
    "#             #Solicitar el precio y la cantidad nueva para meterlo en el inventario:\n",
    "#                 precio_proporcionado = float (input (f\"Por favor, introduzca el precio de {nombre_proporcionado} \"))\n",
    "#                 cantidad_proporcionada = int (input (f\"Introduzca ahora la cantidad de {nombre_proporcionado}\"))\n",
    "            \n",
    "#             #Agregar el nuevo producto a las listas vacías:\n",
    "#                 self.nombres.append (nombre_proporcionado)\n",
    "#                 self.cantidades.append (cantidad_proporcionada)\n",
    "#                 self.precios.append (precio_proporcionado)\n",
    "            \n",
    "#             #Hacemos un print para que el usuario pueda comprobar que se ha añadido el producto al inventario. \n",
    "            \n",
    "#                 print (f\"{nombre_proporcionado} ha sido añadido al inventario,con un precio de {precio_porcionado} y {cantidad_proporcionada} unidades.\")\n",
    "                \n",
    "                   "
   ]
  },
  {
   "cell_type": "code",
   "execution_count": null,
   "metadata": {},
   "outputs": [],
   "source": [
    "# #Creo una variable para la clase TiendaOnline y así poder llamar a la clase:\n",
    "# tienda_via_layetana = TiendaOnline ()\n",
    "# #Llamo al método de esa clase para ver si funciona: \n",
    "# tienda_via_layetana.agregar_producto ()\n",
    "\n",
    "#Me salía este error:\n",
    "# ---------------------------------------------------------------------------\n",
    "# TypeError                                 Traceback (most recent call last)\n",
    "# /tmp/ipykernel_216825/389331119.py in <module>\n",
    "#       1 #Creo una variable para la clase TiendaOnline y así poder llamar a la clase:\n",
    "# ----> 2 tienda_via_layetana = TiendaOnline ()\n",
    "#       3 #Llamo al método de esa clase para ver si funciona:\n",
    "#       4 tienda_via_layetana.agregar_producto ()\n",
    "#       5 \n",
    "\n",
    "# TypeError: __init__() missing 3 required positional arguments: 'nombres', 'precios', and 'inventarios'\n",
    "\n",
    "#Entonces he caído en que según x cantidad de atributos, x cantidad tienes que llamar.\n",
    "#Así que he vaciado los atributos de la clase y el método a ver qué pasaba."
   ]
  },
  {
   "cell_type": "code",
   "execution_count": null,
   "metadata": {},
   "outputs": [],
   "source": [
    "# #Mismo código anterior pero con atributos vacios. Cruzamos dedos. Por ahora run. \n",
    "\n",
    "# class TiendaOnline:\n",
    "    \n",
    "#     def __init__(self):#Le quito atributos. \n",
    "#         #Inicio nombres, precios e inventarios como listas. Ya después miraré cómo lo convierto a diccionario sin más. \n",
    "#         # self.nombres = []\n",
    "#         # self.precios = []\n",
    "#         # self.cantidades = []\n",
    "        \n",
    "#         #Después de llegar al ejercicio 5 me doy cuenta de que era más importante de lo que creía defiirlo ya como didccionario:\n",
    "#         # Primer intento no funciona: \n",
    "#         # diccionario_listas = {self.nombres = [], self.precios = [], self.cantidades = []}\n",
    "#         # Segundo intento, no funciona, pero me doy cuenta de que el self. tiene que ir en algún sitio.\n",
    "#         # diccionario_listas = {'nombres': [], 'precios': [], 'cantidades': []}\n",
    "#         # Por que si no ¿cómo lo reconoce?\n",
    "#         # Tercer intento.Donde me doy cuenta de que tengo que cambiar muchas cosas si quiero que funcione así. \n",
    "#         self.diccionario_listas = {'nombre': [], 'precio': [], 'cantidad': []}\n",
    "        \n",
    "        \n",
    "#         # Diccionario para almacenar información de los clientes\n",
    "#         self.clientes = {}\n",
    "        \n",
    "#         # Variable para llevar un registro de las ventas totales iniciada a cero\n",
    "#         self.ventas_totales = 0  \n",
    "        \n",
    "       \n",
    "        \n",
    "        \n",
    "#     def agregar_producto(self):\n",
    "#             nombre_proporcionado = input(\"Introduzca aquí el nombre para agregar al inventario: \").lower() \n",
    "            \n",
    "#             # Verificar si el producto ya existe en el inventario:\n",
    "#             if nombre_proporcionado in self.nombre:\n",
    "#             # Añadido. Si el producto existe, obtener su índice para poder ubicarlo y trabajr sobre él:\n",
    "#                 indice = self.nombre.index(nombre_proporcionado)\n",
    "#                 print (f\"El producto {nombre_proporcionado.capitalize()} ya existe en el inventario.\")\n",
    "\n",
    "#             # Solicitar al usuario la cantidad del producto a añadir y asegurarse de que sea un entero:\n",
    "#                 cantidad_proporcionada = int (input(f\"Por favor, introduce la cantidad de {nombre_proporcionado.capitalize()} para añadir al inventario.\"))\n",
    "\n",
    "#             # Actualizar la cantidad del producto\n",
    "#                 # Primer intento self.cantidades + cantidad_proporcionada\n",
    "#                 # Segundo intento: \n",
    "#                 # self.cantidades.append (cantidad_proporcionada)\n",
    "#                 #Tercer intento: \n",
    "#                 #self.cantidades[indice] += cantidad_proporcionada\n",
    "#                 #Cuarto intento:\n",
    "#                 #self.cantidades[indice] + cantidad_proporcionada\n",
    "#                 #Quinto intento: \n",
    "#                 # suma_uniodades = self.cantidades[indice] + (cantidad_proporcionada)\n",
    "#                 #Sexto intento ¡Ya se por qué me da 22 todo! ¡Tengo que convertir el input en un entero porque por defecto son strings!\n",
    "#                 #Eso te pasa por utilizar inputs flipada.\n",
    "#                 self.cantidades[indice] += cantidad_proporcionada\n",
    "\n",
    "                \n",
    "#                 print (f\"Se han añadido {cantidad_proporcionada} unidades de {nombre_proporcionado.capitalize()} al inventario.\")\n",
    "#                 print (f\"Ahora, hay un total de {self.cantidades [indice]}.\")\n",
    "                \n",
    "#             elif nombre_proporcionado not in self.nombres:\n",
    "#             #Si el producto no existe decirle que no existe:\n",
    "#                 print (f\"{nombre_proporcionado.capitalize()} no existe en el inventario.\")\n",
    "            \n",
    "#             #Solicitar el precio y la cantidad nueva para meterlo en el inventario:\n",
    "#                 precio_proporcionado = float (input (f\"Por favor, introduzca el precio de {nombre_proporcionado} \"))\n",
    "#                 cantidad_proporcionada = int (input (f\"Introduzca ahora la cantidad de {nombre_proporcionado}\"))\n",
    "            \n",
    "#             #Agregar el nuevo producto a las listas vacías:\n",
    "#                 self.nombres.append (nombre_proporcionado)\n",
    "#                 self.cantidades.append (cantidad_proporcionada)\n",
    "#                 self.precios.append (precio_proporcionado)\n",
    "            \n",
    "#             #Hacemos un print para que el usuario pueda comprobar que se ha añadido el producto al inventario. \n",
    "            \n",
    "#                 print (f\"{nombre_proporcionado.capitalize()} ha sido añadido al inventario, con un precio de {precio_proporcionado}€ y {cantidad_proporcionada} unidades.\")\n",
    "    \n",
    "#     #def ver_inventario (self):\n",
    "    "
   ]
  },
  {
   "cell_type": "code",
   "execution_count": null,
   "metadata": {},
   "outputs": [],
   "source": []
  },
  {
   "cell_type": "code",
   "execution_count": null,
   "metadata": {},
   "outputs": [],
   "source": [
    "# #Vuelvo a llamar a la clase y método a ver:\n",
    "\n",
    "# tienda = TiendaOnline ()\n",
    "\n",
    "# #Poniendo las dos cosas en la misma me daba error, así que he decidio ponerlo en otra cela. \n"
   ]
  },
  {
   "cell_type": "code",
   "execution_count": null,
   "metadata": {},
   "outputs": [],
   "source": [
    "# tienda.agregar_producto ()\n",
    "# #Seguía sin dar. Así que miré la identación, a parte de otras cosas y funcionó.\n",
    "# #Al accionarlo me doy cuenta de que no lo suma, sale esto: \n",
    "# #Cantidad actualizada, ahora hay [0, '2', '5'] de cereales. Lo demás funciona bien. \n",
    "# #Después me salía 22 todo el rato.\n",
    "# #Así que tengo que modificar el código de arriba. \n",
    "\n",
    "# #Me cago en los int, los float y en el momento en el que se me ocurrió poner inputs. \n"
   ]
  },
  {
   "cell_type": "code",
   "execution_count": null,
   "metadata": {},
   "outputs": [],
   "source": [
    "#MÉTODO PARA VER EL INVENTARIO \n",
    "\n",
    "# 5. ver_inventario(self): Muestra el inventario de productos con sus detalles.\n",
    "# ￿ Utiliza un bucle for para recorrer el inventario.\n",
    "# ￿ Imprime los detalles (nombre, precio, cantidad) de cada producto.\n",
    "# ￿ Debería verse:\n",
    "# Nombre: Camisa, Precio: $20, Cantidad: 50\n",
    "# Nombre: Pantalón, Precio: $30, Cantidad: 30\n",
    "# Nombre: Zapatos, Precio: $50, Cantidad: 40\n",
    "# Nombre: Camisa, Precio: $20, Cantidad: 50\n"
   ]
  },
  {
   "cell_type": "code",
   "execution_count": 507,
   "metadata": {},
   "outputs": [],
   "source": [
    "#Mismo código anterior pero con atributos vacios. Cruzamos dedos. Por ahora run. \n",
    "\n",
    "class TiendaOnline:\n",
    "    \n",
    "    def __init__(self):#Le quito atributos. \n",
    "        #Inicio nombres, precios e inventarios como listas. Ya después miraré cómo lo convierto a diccionario sin más. \n",
    "        # self.nombres = []\n",
    "        # self.precios = []\n",
    "        # self.cantidades = []\n",
    "        \n",
    "        #Después de llegar al ejercicio 5 me doy cuenta de que era más importante de lo que creía defiirlo ya como didccionario:\n",
    "        # Primer intento no funciona: \n",
    "        # diccionario_listas = {self.nombres = [], self.precios = [], self.cantidades = []}\n",
    "        # Segundo intento, no funciona, pero me doy cuenta de que el self. tiene que ir en algún sitio.\n",
    "        # diccionario_listas = {'nombres': [], 'precios': [], 'cantidades': []}\n",
    "        # Por que si no ¿cómo lo reconoce?\n",
    "        # Tercer intento.Donde me doy cuenta de que tengo que cambiar muchas cosas si quiero que funcione así. \n",
    "        self.diccionario_listas = {'nombre': [], 'precio': [], 'cantidad': []}\n",
    "        \n",
    "        \n",
    "        # Diccionario para almacenar información de los clientes\n",
    "        self.clientes = {}\n",
    "        \n",
    "        # Variable para llevar un registro de las ventas totales iniciada a cero\n",
    "        self.ventas_totales = 0  \n",
    "        \n",
    "       #Nueva versión con cambios en los self.:\n",
    "        \n",
    "        \n",
    "    def agregar_producto(self):\n",
    "            nombre_proporcionado = input(\"Introduzca aquí el nombre para agregar al inventario: \").lower() \n",
    "            \n",
    "            # Verificar si el producto ya existe en el inventario:\n",
    "            if nombre_proporcionado in self.diccionario_listas ['nombre']:\n",
    "            # Añadido. Si el producto existe, obtener su índice para poder ubicarlo y trabajr sobre él:\n",
    "                indice = self.diccionario_listas ['nombre'].index(nombre_proporcionado)\n",
    "                print (f\"El producto {nombre_proporcionado.capitalize()} ya existe en el inventario.\")\n",
    "\n",
    "            # Solicitar al usuario la cantidad del producto a añadir y asegurarse de que sea un entero:\n",
    "                cantidad_proporcionada = int (input(f\"Por favor, introduce la cantidad de {nombre_proporcionado.capitalize()} para añadir al inventario.\"))\n",
    "\n",
    "            # Actualizar la cantidad del producto\n",
    "                # Primer intento self.cantidades + cantidad_proporcionada\n",
    "                # Segundo intento: \n",
    "                # self.cantidades.append (cantidad_proporcionada)\n",
    "                #Tercer intento: \n",
    "                #self.cantidades[indice] += cantidad_proporcionada\n",
    "                #Cuarto intento:\n",
    "                #self.cantidades[indice] + cantidad_proporcionada\n",
    "                #Quinto intento: \n",
    "                # suma_uniodades = self.cantidades[indice] + (cantidad_proporcionada)\n",
    "                #Sexto intento ¡Ya se por qué me da 22 todo! ¡Tengo que convertir el input en un entero porque por defecto son strings!\n",
    "                #Eso te pasa por utilizar inputs flipada.\n",
    "                self.diccionario_listas['cantidad'][indice] += cantidad_proporcionada\n",
    "                #No se ni cómo ha funcionado esto. \n",
    "                \n",
    "                print (f\"Se han añadido {cantidad_proporcionada} unidades de {nombre_proporcionado.capitalize()} al inventario.\")\n",
    "                print (f\"Ahora, hay un total de {self.diccionario_listas['cantidad'][indice]}.\")\n",
    "                \n",
    "            elif nombre_proporcionado not in self.diccionario_listas ['nombre']:\n",
    "            #Si el producto no existe decirle que no existe:\n",
    "                print (f\"{nombre_proporcionado.capitalize()} no existe en el inventario.\")\n",
    "            \n",
    "            #Solicitar el precio y la cantidad nueva para meterlo en el inventario:\n",
    "                precio_proporcionado = float (input (f\"Por favor, introduzca el precio de {nombre_proporcionado} \"))\n",
    "                cantidad_proporcionada = int (input (f\"Introduzca ahora la cantidad de {nombre_proporcionado}\"))\n",
    "            \n",
    "            #Agregar el nuevo producto a las listas vacías:\n",
    "                self.diccionario_listas ['nombre'].append (nombre_proporcionado)\n",
    "                self.diccionario_listas ['cantidad'].append (cantidad_proporcionada)\n",
    "                self.diccionario_listas ['precio'].append (precio_proporcionado)\n",
    "            \n",
    "            #Hacemos un print para que el usuario pueda comprobar que se ha añadido el producto al inventario. \n",
    "            \n",
    "                print (f\"{nombre_proporcionado.capitalize()} ha sido añadido al inventario, con un precio de {precio_proporcionado}€ y {cantidad_proporcionada} unidades.\")\n",
    "            \n",
    "            #Primero intenté esto: \n",
    "    # def ver_inventario (self):#Esto lo he sacado del apartado de 'for para diccionarios' de mi tabla mágica. \n",
    "    #     for clave, valor in self.diccionario_listas:\n",
    "    #         self.diccionario_litas ['nombre'].items ()\n",
    "    #         self.diccionario_listas ['cantidad'].items ()\n",
    "    #         self.diccionario_listas ['precio'].items ()\n",
    "    #         print(f\"{clave}: {valor}\")\n",
    "            #Me daba esto: \n",
    "            # nombre: ['pollo', 'cereales', 'manzanas']\n",
    "            # precio: [2.0, 2.0, 2.0]\n",
    "            # cantidad: [4, 2, 2]\n",
    "    #Intenré esto:\n",
    "    # def ver_inventario (self):\n",
    "    #     for clave, valor in self.diccionario_listas:\n",
    "    #        self.diccionario_litas ['nombre'].items ()\n",
    "    #        self.diccionario_listas ['cantidad'].items ()\n",
    "    #        self.diccionario_listas ['precio'].items ()\n",
    "    #          print(f\"{clave}: {valor}\")\n",
    "    #Y me daba este error:  File \"/tmp/ipykernel_216825/3340878688.py\", line 95\n",
    "#     print(f\"{clave}: {valor}\")\n",
    "#     ^\n",
    "# IndentationError: unexpected indent \n",
    "\n",
    "#Y me di cuenta de que estaba actuando sólo sobre dos elementos en el for, y que necesitaba imprimir tres: \n",
    "#Así que probé esto:       \n",
    "    # def ver_inventario (self):\n",
    "    #      for nombre, cantidad, precio in self.diccionario_listas:\n",
    "    #         self.diccionario_litas ['nombre'].items ()\n",
    "    #         self.diccionario_listas ['cantidad'].items ()\n",
    "    #         self.diccionario_listas ['precio'].items ()\n",
    "    #         print(f\"'nombre', 'cantidad' ,'precio'\")\n",
    "# Me seguía dando error.\n",
    "#Después entendí que deberían ir en la misma línea. Busqué métodos para agrupar en diccionario,\n",
    "#y me topé con .zip():\n",
    "    # def ver_inventario (self):\n",
    "    #       for nombre, cantidad, precio in zip (self.diccionario_listas ['nombre'],self.diccionario_listas ['cantidad'], self.diccionario_listas ['precio'] ):\n",
    "    #          self.diccionario_litas ['nombre'].items ()\n",
    "    #          self.diccionario_listas ['cantidad'].items ()\n",
    "    #          self.diccionario_listas ['precio'].items ()\n",
    "    #          print(f\"'nombre': {nombre}, 'cantidad': {cantidad} 'precio': {precio}\")\n",
    "#No se qué intento es ya: \n",
    "    def ver_inventario (self):\n",
    "        for nombre, cantidad, precio in zip (self.diccionario_listas ['nombre'],self.diccionario_listas ['cantidad'], self.diccionario_listas ['precio'] ):\n",
    "        #En realidad no se por qué tengo que meter aquí un bucle for.\n",
    "            #   self.diccionario_listas ['nombre']\n",
    "            #   self.diccionario_listas ['cantidad'] #Sospecho que esto no sirve nada, proque no tiene sentido. Correcto. \n",
    "            #   self.diccionario_listas ['precio']\n",
    "              print(f\"'nombre': {nombre}, 'cantidad': {cantidad} 'precio': {precio}\")\n",
    "    def ver_inventario (self):\n",
    "        for nombre, cantidad, precio in zip (self.diccionario_listas ['nombre'],self.diccionario_listas ['cantidad'], self.diccionario_listas ['precio'] ):\n",
    "            \n",
    "            print(f\"'nombre': {nombre}, 'cantidad': {cantidad} 'precio': {precio}\")  \n",
    "    \n",
    "    def buscar_producto(self):\n",
    "        buscar_pornombre = input(\"Introduce el nombre del producto que quieras buscar en el inventario: \").lower()\n",
    "        \n",
    "        for producto in range(len(self.diccionario_listas['nombre'])):\n",
    "            if self.diccionario_listas['nombre'][producto] == buscar_pornombre:\n",
    "                print(f\"Nombre: {self.diccionario_listas['nombre'][producto]}, Precio: {self.diccionario_listas['precio'][producto]}€, Cantidad: {self.diccionario_listas['cantidad'][producto]}\")\n",
    "                continue\n",
    "        if producto not in range(len(self.diccionario_listas['nombre'])):\n",
    "                print(f\"El producto {buscar_pornombre.capitalize()} no está en el inventario. Deberás introducirlo.\")\n",
    "    \n",
    "    def actualizar_stock(self, nombre, cantidad):\n",
    "        nombre = nombre.lower()  # Normaliza el nombre para asegurar no mayúsculas.\n",
    "        encontrado = False  # Para verificar si se encontró el producto.\n",
    "\n",
    "        # Itera sobre la lista de nombres usando un bucle for:\n",
    "        for i in range(len(self.diccionario_listas['nombre'])):\n",
    "            if nombre in self.diccionario_listas['nombre'][i]:\n",
    "        # Si encuentra el producto, actualiza la cantidad:\n",
    "                self.diccionario_listas['cantidad'][i] += cantidad\n",
    "                print(f\"Se ha actualizado {nombre} en el stock, ahora hay {self.diccionario_listas['cantidad'][i]} unidades.\")\n",
    "                encontrado = True\n",
    "                break\n",
    "            else:\n",
    "            # Si el producto no se encuentra en la lista, informa al usuario\n",
    "                print(f\"El producto {nombre} no está en el inventario.\")\n",
    "\n",
    "    \n",
    "    def eliminar_producto(self, nombre):\n",
    "    # Convertimos el nombre a minúsuclas como siempre:\n",
    "        nombre = nombre.lower()\n",
    "\n",
    "    # Verificamos si el nombre está en la lista de nombres de productos:\n",
    "        if nombre in self.diccionario_listas['nombre']:\n",
    "    # Obtenemos el índice del nombre en la lista:\n",
    "            indice5 = self.diccionario_listas['nombre'].index(nombre)\n",
    "            \n",
    "     # Eliminamos el nombre, el precio y la cantidad correspondiente en todas las listas.\n",
    "            indice = self.diccionario_listas['nombre'].index(nombre)\n",
    "            precio = self.diccionario_listas['precio'][indice]\n",
    "            cantidad = self.diccionario_listas['cantidad'][indice]\n",
    "            print(f\"{nombre.capitalize()} ha sido eliminado del inventario.\")\n",
    "        else:\n",
    "            print(f\"El producto {nombre.capitalize()} no está en el inventario.\")\n",
    "                \n",
    "    def calcular_valor_inventario(self):\n",
    "        \n",
    "        valor_inventario_total = 0\n",
    "        for producto in self.diccionario_listas:\n",
    "            precio = producto [\"Precio\"]\n",
    "            cantidad = producto [\"Cantidad\"]\n",
    "            valor_inventario_total += precio * cantidad\n",
    "        print(f\"La suma total el inventario de la tienda es de {valor_inventario_total}€\")\n",
    "\n",
    "    \n",
    "    # def buscar_producto(self):\n",
    "    #     buscar_pornombre = input(\"Introduce el nombre del producto que quieras buscar en el inventario: \").lower() #Hasta aquí todo correcto. \n",
    "        \n",
    "    #         # Recorremos la lista de nombres usando el for dichoso\n",
    "    \n",
    "    # #Establezco una variable boleano false:\n",
    "    #     while True:\n",
    "    #         #Pra saber si el producto está en el rango de toda la cantidad de lista:\n",
    "    #         for producto in range(len(self.diccionario_listas['nombre'])):\n",
    "    #         #Si el producto está en el inventario:  \n",
    "    #             if self.diccionario_listas['nombre'][producto] == buscar_pornombre:\n",
    "    #         # Si el producto está en el inventario dice esto: \n",
    "    #                 print(f\"Nombre: {self.diccionario_listas['nombre'][producto]}, Precio: {self.diccionario_listas['precio'][producto]}€, Cantidad: {self.diccionario_listas['cantidad'][producto]}\")\n",
    "    #                 break\n",
    "    #         # Si no está el producto en el inventario    \n",
    "    #     if not encontrado:\n",
    "    #                 print(f\"El producto {buscar_pornombre.capitalize()} no está en el inventario. Deberás introducirlo.\")   \n",
    "    #                 break\n",
    "    \n",
    "    \n",
    "             \n",
    "#NO ME LO PUEDO CREES, NO DA ERROR. SÓLO ME HA LLEVADO CASI UNA HORA. SE ME HA OLVIDADO QUITAR LOS .ITEMS () ESO ERA TODO!\n",
    "    #Buscar un producto en el inventario. Con el nombre: \n",
    "    # def buscar_producto (self):\n",
    "    #     for nombre in zip (self.diccionario_listas ['nombre']):\n",
    "    #         buscar_pornombre = input (\"Introduce un el nombre del producto que quieras buscar en el inventario\")\n",
    "    #         if buscar_pornombre in zip (self.diccionario_listas ['nombre']):\n",
    "    #             print (f\"'nombre': {nombre}, 'cantidad': {cantidad} 'precio': {precio}\")\n",
    "    #             break\n",
    "    #             #Me preguntaba todo el rato el producto que quería buscar. Ops.\n",
    "    #         elif buscar_pornombre not in zip (self.diccionario_listas ['nombre']):\n",
    "    #             print (f\"{buscar_pornombre.capitalize ()} no está en el inventario. Deberás introducirlo\")\n",
    "    #             break\n",
    "    #Me daba que un artículo que sí estaba en el inventario, no estaba..............\n",
    "    \n",
    "    #Por qué poner buscar_por nombre dentro del for y no fuera?! y si usas ahora zip \n",
    "    # no tiene sentido porque estás Zipeando sobre una sola lista!!!\n",
    "    # def buscar_producto (self):\n",
    "    #     buscar_pornombre = input (\"Introduce un el nombre del producto que quieras buscar en el inventario\")\n",
    "        \n",
    "    #     for nombre in self.diccionario_listas ['nombre']:\n",
    "            \n",
    "    #         if buscar_pornombre in self.diccionario_listas ['nombre']:\n",
    "    #             print (f\"'nombre': {nombre}, 'cantidad': {cantidad} 'precio': {precio}\")\n",
    "    #              #break\n",
    "    #              #Me preguntaba todo el rato el producto que quería buscar. Ops.\n",
    "    #         elif buscar_pornombre not in zip (self.diccionario_listas ['nombre']):\n",
    "    #             print (f\"{buscar_pornombre.capitalize ()} no está en el inventario. Deberás introducirlo\")\n",
    "    #              #break\n",
    "    # Y ahora por qué me output esta maravilla?\n",
    "    # 'nombre': polo, 'cantidad': [] 'precio': []\n",
    "    \n",
    "    #Vamos otra vez. No sabe qué imprimir porque no sabe dónde está lo que le estás pidiendo. Habrá que decirla dónde y tal. \n",
    "#     def buscar_producto (self):\n",
    "#         buscar_pornombre = input (\"Introduce un el nombre del producto que quieras buscar en el inventario\")\n",
    "        \n",
    "#         for nombre in self.diccionario_listas ['nombre']:\n",
    "#             indice2 = self.diccionario_listas ['nombre'].index (buscar_pornombre)\n",
    "            \n",
    "#             if buscar_pornombre in self.diccionario_listas ['nombre']:\n",
    "#                 print (f\"Nombre: {self.diccionario_listas['nombre'][indice2]}, Cantidad: {self.diccionario_listas['cantidad'][indice2]}, Precio: {self.diccionario_listas['precio'][indice2]}\")\n",
    "                \n",
    "#             else: #Meto un else y se acaban los problemas del elif, me estaba complicando, de nuevo. \n",
    "#                 print (f\"El producto que buscas no está en el inventario. Deberás introducirlo\")\n",
    "# # Me daba este error si metías un producto que no estaba en el inventario:\n",
    "# # ---------------------------------------------------------------------------\n",
    "# # ValueError                                Traceback (most recent call last)\n",
    "# # /tmp/ipykernel_216825/4100416434.py in <module>\n",
    "# # ----> 1 tienda.buscar_producto ()\n",
    "\n",
    "# # /tmp/ipykernel_216825/2927584404.py in buscar_producto(self)\n",
    "# #     160 \n",
    "# #     161         for nombre in self.diccionario_listas ['nombre']:\n",
    "# # --> 162             indice2 = self.diccionario_listas ['nombre'].index (buscar_pornombre)\n",
    "# #     163 \n",
    "# #     164             if buscar_pornombre in self.diccionario_listas ['nombre']:\n",
    "\n",
    "# # ValueError: 'manzanas' is not in list \n",
    "\n",
    "# #Así que decido intentar solucionarlo con try porque recuerdo que era para eso:\n",
    "#                 try:\n",
    "#                     except ValorError:\n",
    "#                         print (f\"El producto que buscas no está en el inventario. Deberás introducirlo\")\n",
    "\n",
    "#Mira, vuelvo a empezar.  Y lo pongo arriba porque me está dando problemas de identación.\n",
    "\n",
    "                   "
   ]
  },
  {
   "cell_type": "code",
   "execution_count": 508,
   "metadata": {},
   "outputs": [],
   "source": [
    "#Compruebo que funciona el ejercicio 5. \n",
    "tienda = TiendaOnline ()"
   ]
  },
  {
   "cell_type": "code",
   "execution_count": 509,
   "metadata": {},
   "outputs": [
    {
     "name": "stdout",
     "output_type": "stream",
     "text": [
      "Polo no existe en el inventario.\n",
      "Polo ha sido añadido al inventario, con un precio de 2.0€ y 2 unidades.\n"
     ]
    }
   ],
   "source": [
    "tienda.agregar_producto ()"
   ]
  },
  {
   "cell_type": "code",
   "execution_count": 510,
   "metadata": {},
   "outputs": [
    {
     "name": "stdout",
     "output_type": "stream",
     "text": [
      "'nombre': polo, 'cantidad': 2 'precio': 2.0\n"
     ]
    }
   ],
   "source": [
    "tienda.ver_inventario ()"
   ]
  },
  {
   "cell_type": "code",
   "execution_count": 511,
   "metadata": {},
   "outputs": [
    {
     "name": "stdout",
     "output_type": "stream",
     "text": [
      "Nombre: polo, Precio: 2.0€, Cantidad: 2\n"
     ]
    }
   ],
   "source": [
    "tienda.buscar_producto ()"
   ]
  },
  {
   "cell_type": "code",
   "execution_count": 512,
   "metadata": {},
   "outputs": [
    {
     "name": "stdout",
     "output_type": "stream",
     "text": [
      "El producto loro no está en el inventario.\n"
     ]
    }
   ],
   "source": [
    "tienda.actualizar_stock ('loro', 2)"
   ]
  },
  {
   "cell_type": "code",
   "execution_count": 513,
   "metadata": {},
   "outputs": [
    {
     "name": "stdout",
     "output_type": "stream",
     "text": [
      "Polo ha sido eliminado del inventario.\n"
     ]
    }
   ],
   "source": [
    "tienda.eliminar_producto('polo')"
   ]
  },
  {
   "cell_type": "code",
   "execution_count": 514,
   "metadata": {},
   "outputs": [
    {
     "name": "stdout",
     "output_type": "stream",
     "text": [
      "'nombre': polo, 'cantidad': 2 'precio': 2.0\n"
     ]
    }
   ],
   "source": [
    "tienda.ver_inventario ()"
   ]
  },
  {
   "cell_type": "code",
   "execution_count": 164,
   "metadata": {},
   "outputs": [
    {
     "name": "stdout",
     "output_type": "stream",
     "text": [
      "Pollo no existe en el inventario.\n",
      "Pollo ha sido añadido al inventario, con un precio de 2.0€ y 2 unidades.\n"
     ]
    }
   ],
   "source": [
    "# tienda = TiendaOnline ()\n",
    "\n",
    "#Después de mil como estos: \n",
    "# ---------------------------------------------------------------------------\n",
    "# AttributeError                            Traceback (most recent call last)\n",
    "# /tmp/ipykernel_216825/3101804077.py in <module>\n",
    "#       1 tienda = TiendaOnline ()\n",
    "# ----> 2 tienda.agregar_producto ()\n",
    "\n",
    "# /tmp/ipykernel_216825/111262553.py in agregar_producto(self)\n",
    "#      58                 print (f\"Ahora, hay un total de {self.diccionario_listas['cantidad']}.\")\n",
    "#      59 \n",
    "# ---> 60             elif nombre_proporcionado not in self.nombres:\n",
    "#      61             #Si el producto no existe decirle que no existe:\n",
    "#      62                 print (f\"{nombre_proporcionado.capitalize()} no existe en el inventario.\")\n",
    "\n",
    "# AttributeError: 'TiendaOnline' object has no attribute 'nombres'\n",
    "\n",
    "#Consigo corregirlos todos.\n",
    "\n",
    "#Todo funciona bien: \n",
    "# El producto Pollo ya existe en el inventario.\n",
    "# Se han añadido 2 unidades de Pollo al inventario.\n",
    "# Ahora, hay un total de [4]."
   ]
  },
  {
   "cell_type": "code",
   "execution_count": 165,
   "metadata": {},
   "outputs": [
    {
     "name": "stdout",
     "output_type": "stream",
     "text": [
      "El producto Pollo ya existe en el inventario.\n",
      "Se han añadido 2 unidades de Pollo al inventario.\n",
      "Ahora, hay un total de [4].\n"
     ]
    }
   ],
   "source": [
    "# tienda.agregar_producto ()"
   ]
  },
  {
   "cell_type": "code",
   "execution_count": null,
   "metadata": {},
   "outputs": [],
   "source": [
    "___________________________________________________________________________________________________________________________________"
   ]
  },
  {
   "cell_type": "code",
   "execution_count": 17,
   "metadata": {},
   "outputs": [],
   "source": [
    "#COPIO Y PEGO DE NUEVO AQUÍ TODO EL CÓDIGO PORQUE CON TANTO COMENTARIO ME PIERDO Y NO VA LA MALDITA IDENTACIÓN\n",
    "class TiendaOnline:\n",
    "    \n",
    "    def __init__(self):\n",
    "        \n",
    "        self.diccionario_listas = {'nombre': [], 'precio': [], 'cantidad': []}\n",
    "        self.clientes = {}\n",
    "        self.ventas_totales = 0\n",
    "    \n",
    "    def agregar_producto(self):\n",
    "        \n",
    "        nombre_proporcionado = input(\"Introduzca aquí el nombre para agregar al inventario: \").lower()\n",
    "        \n",
    "        if nombre_proporcionado in self.diccionario_listas ['nombre']:\n",
    "            \n",
    "            indice = self.diccionario_listas ['nombre'].index(nombre_proporcionado)\n",
    "            \n",
    "            print (f\"El producto {nombre_proporcionado.capitalize()} ya existe en el inventario.\")\n",
    "            \n",
    "            cantidad_proporcionada = int (input(f\"Por favor, introduce la cantidad de {nombre_proporcionado.capitalize()} para añadir al inventario.\"))\n",
    "            self.diccionario_listas['cantidad'][indice] += cantidad_proporcionada \n",
    "             \n",
    "            print (f\"Se han añadido {cantidad_proporcionada} unidades de {nombre_proporcionado.capitalize()} al inventario.\")\n",
    "            print (f\"Ahora, hay un total de {self.diccionario_listas['cantidad'][indice]}.\") \n",
    "            \n",
    "        elif nombre_proporcionado not in self.diccionario_listas ['nombre']:\n",
    "            print (f\"{nombre_proporcionado.capitalize()} no existe en el inventario.\")\n",
    "            \n",
    "            precio_proporcionado = float (input (f\"Por favor, introduzca el precio de {nombre_proporcionado} \"))\n",
    "            cantidad_proporcionada = int (input (f\"Introduzca ahora la cantidad de {nombre_proporcionado}\"))\n",
    "            \n",
    "            self.diccionario_listas ['nombre'].append (nombre_proporcionado)\n",
    "            self.diccionario_listas ['cantidad'].append (cantidad_proporcionada)\n",
    "            self.diccionario_listas ['precio'].append (precio_proporcionado)\n",
    "            print (f\"{nombre_proporcionado.capitalize()} ha sido añadido al inventario, con un precio de {precio_proporcionado}€ y {cantidad_proporcionada} unidades.\")\n",
    "    \n",
    "    def ver_inventario (self):\n",
    "        for nombre, cantidad, precio in zip (self.diccionario_listas ['nombre'],self.diccionario_listas ['cantidad'], self.diccionario_listas ['precio'] ):\n",
    "            \n",
    "            print(f\"'nombre': {nombre}, 'cantidad': {cantidad} 'precio': {precio}\")  \n",
    "        return self.diccionario_listas ['nombre'],self.diccionario_listas ['cantidad'], self.diccionario_listas ['precio'] \n",
    "    \n",
    "    def buscar_producto(self):\n",
    "        buscar_pornombre = input(\"Introduce el nombre del producto que quieras buscar en el inventario: \").lower()\n",
    "        \n",
    "        for producto in range(len(self.diccionario_listas['nombre'])):\n",
    "            if self.diccionario_listas['nombre'][producto] == buscar_pornombre:\n",
    "                print(f\"Nombre: {self.diccionario_listas['nombre'][producto]}, Precio: {self.diccionario_listas['precio'][producto]}€, Cantidad: {self.diccionario_listas['cantidad'][producto]}\")\n",
    "                continue\n",
    "        if producto not in range(len(self.diccionario_listas['nombre'])):\n",
    "                print(f\"El producto {buscar_pornombre.capitalize()} no está en el inventario. Deberás introducirlo.\")\n",
    "\n",
    "    def actualizar_stock(self, nombre, cantidad):\n",
    "        nombre = nombre.lower()\n",
    "        if nombre in self.diccionario_listas['nombre']:\n",
    "            indice = self.diccionario_listas['nombre'].index(nombre)\n",
    "\n",
    "            self.diccionario_listas['cantidad'][indice] += cantidad\n",
    "            print(f\"El stock de {nombre.capitalize()} ha sido actualizado a {self.diccionario_listas['cantidad'][indice]} unidades.\")\n",
    "        else:\n",
    "            print(f\"El producto {nombre.capitalize()} no está en el inventario.\")\n",
    "    \n",
    "    def eliminar_producto(self, nombre):\n",
    "        nombre = nombre.lower()  # Normalizar el nombre para evitar problemas de coincidencia por mayúsculas/minúsculas:\n",
    "        if nombre in self.diccionario_listas['nombre']:\n",
    "        # Obtener el índice del nombre en la listas:\n",
    "            indice = self.diccionario_listas['nombre'].index(nombre)\n",
    "            \n",
    "        # Eliminar el nombre, el precio y la cantidad en todas las listas:\n",
    "            del self.diccionario_listas['nombre'][indice]\n",
    "            del self.diccionario_listas['precio'][indice]\n",
    "            del self.diccionario_listas['cantidad'][indice]\n",
    "            \n",
    "            print(f\"{nombre.capitalize()} ha sido eliminado del inventario.\")\n",
    "        else:\n",
    "            print(f\"El producto {nombre.capitalize()} no está en el inventario.\")\n",
    "            \n",
    "    def calcular_valor_inventario(self):\n",
    "        valor_total = 0  # Inicializar el valor total del inventario a cero para albergar resultados:\n",
    "        # Iteramos sobre los índices del inventario usando un bucle for:\n",
    "        for i in range(len(self.diccionario_listas['nombre'])):\n",
    "        # Calculamos el valor del producto actual multiplicanndo su precio por su cantidad:\n",
    "            valor_producto = self.diccionario_listas['precio'][i] * self.diccionario_listas['cantidad'][i]\n",
    "        # Sumamos el valor del producto al valor total del inventario:\n",
    "            valor_total += valor_producto\n",
    "\n",
    "        # Imprimimos para el usuario y retornamos el valor total del inventario:\n",
    "        print(f\"El valor total del inventario es de {valor_total}€\")\n",
    "        return valor_total\n",
    "    \n",
    "    def realizar_compra(self):\n",
    "        carrito = {}  # Diccionario para almacenar el carrito de compras\n",
    "        total_compra = 0  # Variable para almacenar el costo total de la compra\n",
    "\n",
    "        while True:\n",
    "        # Mostrar el inventario disponible para que el/la cliente/a mire qué quiere:\n",
    "            print(\"Los productos disponibles en la tienda online son los siguientes: \")\n",
    "            for nombre, precio, cantidad in zip(self.diccionario_listas['nombre'], self.diccionario_listas['precio'], self.diccionario_listas['cantidad']):\n",
    "                print(f\"Producto: {nombre}, Precio: {precio}€, Cantidad disponible: {cantidad}\")\n",
    "            \n",
    "        # Solicitamos al cliente el nombre del producto que desea comprar:\n",
    "            producto_seleccionado = input(\"Introduce el nombre del producto que deseas comprar. Si ya no quieres compra más productos presiona la 'n' en tu teclado\").lower()\n",
    "\n",
    "        #Cortamos el bucle para que nos ea infinito: \n",
    "            if producto_seleccionado == 'n':\n",
    "                pass\n",
    "        # Verificar si el producto está en el inventario:\n",
    "            if producto_seleccionado in self.diccionario_listas['nombre']:\n",
    "                indice = self.diccionario_listas['nombre'].index(producto_seleccionado)\n",
    "            \n",
    "        # Solicitamos al cliente la cantidad que desea comprar:\n",
    "                cantidad_comprar = int(input(f\"Especifica la cantidad que deseas comprar de {producto_seleccionado}\"))\n",
    "\n",
    "        # Verificamos si hay suficiente cantidad en el inventario para no entrar en error:\n",
    "                if cantidad_comprar <= self.diccionario_listas['cantidad'][indice]:\n",
    "        # Agregamos el producto al carrito y actualizamos el inventario:\n",
    "                    if producto_seleccionado not in carrito:\n",
    "                        carrito[producto_seleccionado] = cantidad_comprar\n",
    "                    else:\n",
    "                        carrito[producto_seleccionado] += cantidad_comprar\n",
    "\n",
    "                    self.diccionario_listas['cantidad'][indice] -= cantidad_comprar\n",
    "                    total_compra += self.diccionario_listas['precio'][indice] * cantidad_comprar\n",
    "                    print(f\"¡Enhorabuena! Has añadido {cantidad_comprar} unidades de {producto_seleccionado} al carrito.\")\n",
    "                else:\n",
    "                    print(\"No hay suficiente cantidad disponible de ese producto.\")\n",
    "            else:\n",
    "                print(\"Producto no disponible en el inventario.\")\n",
    "\n",
    "\n",
    "        \n",
    "\n",
    "\n",
    "    # def actualizar_stock(self,nombre,cantidad):\n",
    "    #     for producto in self.diccionario_listas ['nombre']:\n",
    "    #         if producto[\"nombre\"] == nombre:\n",
    "    #             producto[\"cantidad\"] += cantidad\n",
    "    #             return f\"La cantidad actualizada de su {nombre} es {producto['cantidad']}\" #pongo un return sino va al return siguiente y me imprime que no tiene producto aunque lo tenga\n",
    "    #     return (\"Actualmente no tenemos este producto en nuestro inventario\")            \n",
    "# #Básicamente me he copiado un poco de los anterioires y lo he cambiado un poco. Este era más fácil:    \n",
    "#     def actualizar_stock(self, nombre, cantidad):\n",
    "#         nombre = nombre.lower()#Me aseguro como siempre de evitar las mayúsculas. \n",
    "#         producto_encontrado = False  # Inicializa un indicador para ver si se encuentra el producto.\n",
    "\n",
    "#     # Recorrer la lista de nombres de productos usando un bucle for:\n",
    "#         for i in range(len(self.diccionario_listas['nombre'])):\n",
    "#         #Si el nombre de producto que se le da al atributo está en el diccionario seguimos:\n",
    "#                  if self.diccionario_listas['nombre'][i] == nombre:\n",
    "#         # Si encuentra el producto actualiza la cantidad:\n",
    "#                     self.diccionario_listas['cantidad'][i] += cantidad\n",
    "#                     print(f\"El stock del producto {nombre.capitalize()} ha sido actualizado a {self.diccionario_listas['cantidad'][i]} unidades.\")    \n",
    "#                     break # Sale del bucle  porque ha encontrado el producto y ha actualizado el stock.\n",
    "#         if not producto_encontrado:\n",
    "#         # Si no se encuentra el producto muestra un mensaje al usuario:\n",
    "#             print(f\"El producto {nombre.capitalize()} no está en el inventario.\")\n",
    "\n",
    "#Pues no era tan fácil al final, eso o que tengo el cerebro cocido ya jajajaja"
   ]
  },
  {
   "cell_type": "code",
   "execution_count": 18,
   "metadata": {},
   "outputs": [],
   "source": [
    "tienda = TiendaOnline ()"
   ]
  },
  {
   "cell_type": "code",
   "execution_count": 21,
   "metadata": {},
   "outputs": [
    {
     "name": "stdout",
     "output_type": "stream",
     "text": [
      "Polo no existe en el inventario.\n",
      "Polo ha sido añadido al inventario, con un precio de 2.3€ y 100 unidades.\n"
     ]
    }
   ],
   "source": [
    "tienda.agregar_producto ()"
   ]
  },
  {
   "cell_type": "code",
   "execution_count": 22,
   "metadata": {},
   "outputs": [
    {
     "name": "stdout",
     "output_type": "stream",
     "text": [
      "'nombre': bañadores, 'cantidad': 2 'precio': 2.0\n",
      "'nombre': culebras, 'cantidad': 8 'precio': 5.0\n",
      "'nombre': polo, 'cantidad': 100 'precio': 2.3\n"
     ]
    },
    {
     "data": {
      "text/plain": [
       "(['bañadores', 'culebras', 'polo'], [2, 8, 100], [2.0, 5.0, 2.3])"
      ]
     },
     "execution_count": 22,
     "metadata": {},
     "output_type": "execute_result"
    }
   ],
   "source": [
    "tienda.ver_inventario ()"
   ]
  },
  {
   "cell_type": "code",
   "execution_count": 23,
   "metadata": {},
   "outputs": [
    {
     "name": "stdout",
     "output_type": "stream",
     "text": [
      "Nombre: polo, Precio: 2.3€, Cantidad: 100\n"
     ]
    }
   ],
   "source": [
    "tienda.buscar_producto ()"
   ]
  },
  {
   "cell_type": "code",
   "execution_count": 24,
   "metadata": {},
   "outputs": [
    {
     "name": "stdout",
     "output_type": "stream",
     "text": [
      "El stock de Polo ha sido actualizado a 102 unidades.\n"
     ]
    }
   ],
   "source": [
    "tienda.actualizar_stock ('polo', 2)"
   ]
  },
  {
   "cell_type": "code",
   "execution_count": 25,
   "metadata": {},
   "outputs": [
    {
     "name": "stdout",
     "output_type": "stream",
     "text": [
      "Polo ha sido eliminado del inventario.\n"
     ]
    }
   ],
   "source": [
    "tienda.eliminar_producto ('polo')"
   ]
  },
  {
   "cell_type": "code",
   "execution_count": 26,
   "metadata": {},
   "outputs": [
    {
     "name": "stdout",
     "output_type": "stream",
     "text": [
      "'nombre': bañadores, 'cantidad': 2 'precio': 2.0\n",
      "'nombre': culebras, 'cantidad': 8 'precio': 5.0\n"
     ]
    },
    {
     "data": {
      "text/plain": [
       "(['bañadores', 'culebras'], [2, 8], [2.0, 5.0])"
      ]
     },
     "execution_count": 26,
     "metadata": {},
     "output_type": "execute_result"
    }
   ],
   "source": [
    "tienda.ver_inventario ()"
   ]
  },
  {
   "cell_type": "code",
   "execution_count": 27,
   "metadata": {},
   "outputs": [
    {
     "name": "stdout",
     "output_type": "stream",
     "text": [
      "El valor total del inventario es de 44.0€\n"
     ]
    },
    {
     "data": {
      "text/plain": [
       "44.0"
      ]
     },
     "execution_count": 27,
     "metadata": {},
     "output_type": "execute_result"
    }
   ],
   "source": [
    "tienda.calcular_valor_inventario ()"
   ]
  },
  {
   "cell_type": "code",
   "execution_count": 28,
   "metadata": {},
   "outputs": [
    {
     "name": "stdout",
     "output_type": "stream",
     "text": [
      "Los productos disponibles en la tienda online son los siguientes: \n",
      "Producto: bañadores, Precio: 2.0€, Cantidad disponible: 2\n",
      "Producto: culebras, Precio: 5.0€, Cantidad disponible: 8\n",
      "¡Enhorabuena! Has añadido 2 unidades de culebras al carrito.\n",
      "Los productos disponibles en la tienda online son los siguientes: \n",
      "Producto: bañadores, Precio: 2.0€, Cantidad disponible: 2\n",
      "Producto: culebras, Precio: 5.0€, Cantidad disponible: 6\n",
      "Producto no disponible en el inventario.\n",
      "Los productos disponibles en la tienda online son los siguientes: \n",
      "Producto: bañadores, Precio: 2.0€, Cantidad disponible: 2\n",
      "Producto: culebras, Precio: 5.0€, Cantidad disponible: 6\n",
      "Producto no disponible en el inventario.\n",
      "Los productos disponibles en la tienda online son los siguientes: \n",
      "Producto: bañadores, Precio: 2.0€, Cantidad disponible: 2\n",
      "Producto: culebras, Precio: 5.0€, Cantidad disponible: 6\n",
      "Producto no disponible en el inventario.\n",
      "Los productos disponibles en la tienda online son los siguientes: \n",
      "Producto: bañadores, Precio: 2.0€, Cantidad disponible: 2\n",
      "Producto: culebras, Precio: 5.0€, Cantidad disponible: 6\n"
     ]
    }
   ],
   "source": [
    "tienda.realizar_compra () #Entra en bucle infinito!!!!!"
   ]
  },
  {
   "cell_type": "code",
   "execution_count": 13,
   "metadata": {},
   "outputs": [],
   "source": [
    "#COPIO Y PEGO DE NUEVO AQUÍ TODO\n",
    "class TiendaOnline:\n",
    "    \n",
    "    def __init__(self):\n",
    "        \n",
    "        self.diccionario_listas = {'nombre': [], 'precio': [], 'cantidad': []}\n",
    "        self.clientes = {}\n",
    "        self.ventas_totales = 0\n",
    "        self.carrito = {}\n",
    "        self.total_compra = 0\n",
    "    \n",
    "    def agregar_producto(self):\n",
    "        \n",
    "        nombre_proporcionado = input(\"Introduzca aquí el nombre para agregar al inventario: \").lower()\n",
    "        \n",
    "        if nombre_proporcionado in self.diccionario_listas ['nombre']:\n",
    "            \n",
    "            indice = self.diccionario_listas ['nombre'].index(nombre_proporcionado)\n",
    "            \n",
    "            print (f\"El producto {nombre_proporcionado.capitalize()} ya existe en el inventario.\")\n",
    "            \n",
    "            cantidad_proporcionada = int (input(f\"Por favor, introduce la cantidad de {nombre_proporcionado.capitalize()} para añadir al inventario.\"))\n",
    "            self.diccionario_listas['cantidad'][indice] += cantidad_proporcionada \n",
    "             \n",
    "            print (f\"Se han añadido {cantidad_proporcionada} unidades de {nombre_proporcionado.capitalize()} al inventario.\")\n",
    "            print (f\"Ahora, hay un total de {self.diccionario_listas['cantidad'][indice]}.\") \n",
    "            \n",
    "        elif nombre_proporcionado not in self.diccionario_listas ['nombre']:\n",
    "            print (f\"{nombre_proporcionado.capitalize()} no existe en el inventario.\")\n",
    "            \n",
    "            precio_proporcionado = float (input (f\"Por favor, introduzca el precio de {nombre_proporcionado} \"))\n",
    "            cantidad_proporcionada = int (input (f\"Introduzca ahora la cantidad de {nombre_proporcionado}\"))\n",
    "            \n",
    "            self.diccionario_listas ['nombre'].append (nombre_proporcionado)\n",
    "            self.diccionario_listas ['cantidad'].append (cantidad_proporcionada)\n",
    "            self.diccionario_listas ['precio'].append (precio_proporcionado)\n",
    "            print (f\"{nombre_proporcionado.capitalize()} ha sido añadido al inventario, con un precio de {precio_proporcionado}€ y {cantidad_proporcionada} unidades.\")\n",
    "    \n",
    "    def ver_inventario (self):\n",
    "        for nombre, cantidad, precio in zip (self.diccionario_listas ['nombre'],self.diccionario_listas ['cantidad'], self.diccionario_listas ['precio'] ):\n",
    "            \n",
    "            print(f\"'nombre': {nombre}, 'cantidad': {cantidad} 'precio': {precio}\")  \n",
    "        return self.diccionario_listas ['nombre'],self.diccionario_listas ['cantidad'], self.diccionario_listas ['precio'] \n",
    "    \n",
    "    def buscar_producto(self):\n",
    "        buscar_pornombre = input(\"Introduce el nombre del producto que quieras buscar en el inventario: \").lower()\n",
    "        \n",
    "        for producto in range(len(self.diccionario_listas['nombre'])):\n",
    "            if self.diccionario_listas['nombre'][producto] == buscar_pornombre:\n",
    "                print(f\"Nombre: {self.diccionario_listas['nombre'][producto]}, Precio: {self.diccionario_listas['precio'][producto]}€, Cantidad: {self.diccionario_listas['cantidad'][producto]}\")\n",
    "                continue\n",
    "        if producto not in range(len(self.diccionario_listas['nombre'])):\n",
    "                print(f\"El producto {buscar_pornombre.capitalize()} no está en el inventario. Deberás introducirlo.\")\n",
    "\n",
    "    def actualizar_stock(self, nombre, cantidad):\n",
    "        nombre = nombre.lower()\n",
    "        if nombre in self.diccionario_listas['nombre']:\n",
    "            indice = self.diccionario_listas['nombre'].index(nombre)\n",
    "\n",
    "            self.diccionario_listas['cantidad'][indice] += cantidad\n",
    "            print(f\"El stock de {nombre.capitalize()} ha sido actualizado a {self.diccionario_listas['cantidad'][indice]} unidades.\")\n",
    "        else:\n",
    "            print(f\"El producto {nombre.capitalize()} no está en el inventario.\")\n",
    "    \n",
    "    def eliminar_producto(self, nombre):\n",
    "        nombre = nombre.lower()  # Normalizar el nombre para evitar problemas de coincidencia por mayúsculas/minúsculas:\n",
    "        if nombre in self.diccionario_listas['nombre']:\n",
    "        # Obtener el índice del nombre en la listas:\n",
    "            indice = self.diccionario_listas['nombre'].index(nombre)\n",
    "            \n",
    "        # Eliminar el nombre, el precio y la cantidad en todas las listas:\n",
    "            del self.diccionario_listas['nombre'][indice]\n",
    "            del self.diccionario_listas['precio'][indice]\n",
    "            del self.diccionario_listas['cantidad'][indice]\n",
    "            \n",
    "            print(f\"{nombre.capitalize()} ha sido eliminado del inventario.\")\n",
    "        else:\n",
    "            print(f\"El producto {nombre.capitalize()} no está en el inventario.\")\n",
    "            \n",
    "    def calcular_valor_inventario(self):\n",
    "        valor_total = 0  # Inicializar el valor total del inventario a cero para albergar resultados:\n",
    "        # Iteramos sobre los índices del inventario usando un bucle for:\n",
    "        for i in range(len(self.diccionario_listas['nombre'])):\n",
    "        # Calculamos el valor del producto actual multiplicanndo su precio por su cantidad:\n",
    "            valor_producto = self.diccionario_listas['precio'][i] * self.diccionario_listas['cantidad'][i]\n",
    "        # Sumamos el valor del producto al valor total del inventario:\n",
    "            valor_total += valor_producto\n",
    "\n",
    "        # Imprimimos para el usuario y retornamos el valor total del inventario:\n",
    "        print(f\"El valor total del inventario es de {valor_total}€\")\n",
    "        return valor_total\n",
    "    \n",
    "    def realizar_compra(self):\n",
    "        while True:\n",
    "            print(\"Los productos disponibles en la tienda online son los siguientes\")\n",
    "            for nombre, precio, cantidad in zip(self.diccionario_listas['nombre'], self.diccionario_listas['precio'], self.diccionario_listas['cantidad']):\n",
    "                print(f\"Producto: {nombre.capitalize()}, Precio: {precio}€, Cantidad disponible: {cantidad}\")\n",
    "            \n",
    "            producto_seleccionado = input(\"Introduce el nombre del producto que deseas comprar o pulsa 'n' y la tecla 'Enter'en tu teclado para ir al carrito.\").lower()\n",
    "\n",
    "            if producto_seleccionado == 'n':\n",
    "                break  # Salir del bucle si el usuario decide no continuar comprando, y así no permitimos que se infinite. \n",
    "\n",
    "            if producto_seleccionado in self.diccionario_listas['nombre']:\n",
    "                indice = self.diccionario_listas['nombre'].index(producto_seleccionado)\n",
    "                cantidad_comprar = int(input(f\"Dinos la cantidad que quieres comprar de {producto_seleccionado}.\"))\n",
    "\n",
    "                if cantidad_comprar <= self.diccionario_listas['cantidad'][indice]:\n",
    "                    if producto_seleccionado not in self.carrito:\n",
    "                        self.carrito[producto_seleccionado] = cantidad_comprar\n",
    "                    else:\n",
    "                        self.carrito[producto_seleccionado] += cantidad_comprar\n",
    "\n",
    "                    self.diccionario_listas['cantidad'][indice] -= cantidad_comprar\n",
    "                    self.total_compra += self.diccionario_listas['precio'][indice] * cantidad_comprar\n",
    "                    print(f\"¡Enhorabuena! Has añadido {cantidad_comprar} unidades de {producto_seleccionado} al carrito.\")\n",
    "                else:\n",
    "                    print(\"Lo sentimos. No hay suficiente cantidad disponible de ese producto ahora mismo.\")\n",
    "            else:\n",
    "                print(f\"{producto_seleccionado.capitalize()} no está disponible en el inventario.\")\n",
    "\n",
    "        print(\"Aquí tienes el resumen de tu compra:\")\n",
    "        for producto, cantidad in self.carrito.items():\n",
    "            print(f\"{producto} : {cantidad} unidades\")\n",
    "        print(f\"El coste total de tu compra es de: {self.total_compra}€\")"
   ]
  },
  {
   "cell_type": "code",
   "execution_count": 14,
   "metadata": {},
   "outputs": [],
   "source": [
    "tienda = TiendaOnline ()"
   ]
  },
  {
   "cell_type": "code",
   "execution_count": 18,
   "metadata": {},
   "outputs": [
    {
     "name": "stdout",
     "output_type": "stream",
     "text": [
      "Polos no existe en el inventario.\n",
      "Polos ha sido añadido al inventario, con un precio de 1.0€ y 98 unidades.\n"
     ]
    }
   ],
   "source": [
    "tienda.agregar_producto ()"
   ]
  },
  {
   "cell_type": "code",
   "execution_count": 19,
   "metadata": {},
   "outputs": [
    {
     "name": "stdout",
     "output_type": "stream",
     "text": [
      "'nombre': manzanas, 'cantidad': 65 'precio': 2.5\n",
      "'nombre': piruletas, 'cantidad': 54 'precio': 1.2\n",
      "'nombre': pimientos, 'cantidad': 81 'precio': 2.6\n",
      "'nombre': polos, 'cantidad': 98 'precio': 1.0\n"
     ]
    },
    {
     "data": {
      "text/plain": [
       "(['manzanas', 'piruletas', 'pimientos', 'polos'],\n",
       " [65, 54, 81, 98],\n",
       " [2.5, 1.2, 2.6, 1.0])"
      ]
     },
     "execution_count": 19,
     "metadata": {},
     "output_type": "execute_result"
    }
   ],
   "source": [
    "tienda.ver_inventario ()"
   ]
  },
  {
   "cell_type": "code",
   "execution_count": 20,
   "metadata": {},
   "outputs": [
    {
     "name": "stdout",
     "output_type": "stream",
     "text": [
      "Nombre: polos, Precio: 1.0€, Cantidad: 98\n"
     ]
    }
   ],
   "source": [
    "tienda.buscar_producto ()"
   ]
  },
  {
   "cell_type": "code",
   "execution_count": 21,
   "metadata": {},
   "outputs": [
    {
     "name": "stdout",
     "output_type": "stream",
     "text": [
      "El stock de Polos ha sido actualizado a 100 unidades.\n"
     ]
    }
   ],
   "source": [
    "tienda.actualizar_stock ('polos', 2)"
   ]
  },
  {
   "cell_type": "code",
   "execution_count": 22,
   "metadata": {},
   "outputs": [
    {
     "name": "stdout",
     "output_type": "stream",
     "text": [
      "Polos ha sido eliminado del inventario.\n"
     ]
    }
   ],
   "source": [
    "tienda.eliminar_producto ('polos')"
   ]
  },
  {
   "cell_type": "code",
   "execution_count": 23,
   "metadata": {},
   "outputs": [
    {
     "name": "stdout",
     "output_type": "stream",
     "text": [
      "'nombre': manzanas, 'cantidad': 65 'precio': 2.5\n",
      "'nombre': piruletas, 'cantidad': 54 'precio': 1.2\n",
      "'nombre': pimientos, 'cantidad': 81 'precio': 2.6\n"
     ]
    },
    {
     "data": {
      "text/plain": [
       "(['manzanas', 'piruletas', 'pimientos'], [65, 54, 81], [2.5, 1.2, 2.6])"
      ]
     },
     "execution_count": 23,
     "metadata": {},
     "output_type": "execute_result"
    }
   ],
   "source": [
    "tienda.ver_inventario ()"
   ]
  },
  {
   "cell_type": "code",
   "execution_count": 24,
   "metadata": {},
   "outputs": [
    {
     "name": "stdout",
     "output_type": "stream",
     "text": [
      "El valor total del inventario es de 437.9€\n"
     ]
    },
    {
     "data": {
      "text/plain": [
       "437.9"
      ]
     },
     "execution_count": 24,
     "metadata": {},
     "output_type": "execute_result"
    }
   ],
   "source": [
    "tienda.calcular_valor_inventario ()"
   ]
  },
  {
   "cell_type": "code",
   "execution_count": 25,
   "metadata": {},
   "outputs": [
    {
     "name": "stdout",
     "output_type": "stream",
     "text": [
      "Los productos disponibles en la tienda online son los siguientes\n",
      "Producto: Manzanas, Precio: 2.5€, Cantidad disponible: 65\n",
      "Producto: Piruletas, Precio: 1.2€, Cantidad disponible: 54\n",
      "Producto: Pimientos, Precio: 2.6€, Cantidad disponible: 81\n",
      "¡Enhorabuena! Has añadido 2 unidades de manzanas al carrito.\n",
      "Los productos disponibles en la tienda online son los siguientes\n",
      "Producto: Manzanas, Precio: 2.5€, Cantidad disponible: 63\n",
      "Producto: Piruletas, Precio: 1.2€, Cantidad disponible: 54\n",
      "Producto: Pimientos, Precio: 2.6€, Cantidad disponible: 81\n",
      "Aquí tienes el resumen de tu compra:\n",
      "manzanas : 2 unidades\n",
      "El coste total de tu compra es de: 5.0€\n"
     ]
    }
   ],
   "source": [
    "tienda.realizar_compra ()"
   ]
  },
  {
   "cell_type": "code",
   "execution_count": 26,
   "metadata": {},
   "outputs": [
    {
     "name": "stdout",
     "output_type": "stream",
     "text": [
      "Los productos disponibles en la tienda online son los siguientes\n",
      "Producto: Manzanas, Precio: 2.5€, Cantidad disponible: 63\n",
      "Producto: Piruletas, Precio: 1.2€, Cantidad disponible: 54\n",
      "Producto: Pimientos, Precio: 2.6€, Cantidad disponible: 81\n",
      "Agua no está disponible en el inventario.\n",
      "Los productos disponibles en la tienda online son los siguientes\n",
      "Producto: Manzanas, Precio: 2.5€, Cantidad disponible: 63\n",
      "Producto: Piruletas, Precio: 1.2€, Cantidad disponible: 54\n",
      "Producto: Pimientos, Precio: 2.6€, Cantidad disponible: 81\n",
      "¡Enhorabuena! Has añadido 3 unidades de piruletas al carrito.\n",
      "Los productos disponibles en la tienda online son los siguientes\n",
      "Producto: Manzanas, Precio: 2.5€, Cantidad disponible: 63\n",
      "Producto: Piruletas, Precio: 1.2€, Cantidad disponible: 51\n",
      "Producto: Pimientos, Precio: 2.6€, Cantidad disponible: 81\n",
      "Aquí tienes el resumen de tu compra:\n",
      "manzanas : 2 unidades\n",
      "piruletas : 3 unidades\n",
      "El coste total de tu compra es de: 8.6€\n"
     ]
    }
   ],
   "source": [
    "tienda.realizar_compra ()"
   ]
  }
 ],
 "metadata": {
  "kernelspec": {
   "display_name": "base",
   "language": "python",
   "name": "python3"
  },
  "language_info": {
   "codemirror_mode": {
    "name": "ipython",
    "version": 3
   },
   "file_extension": ".py",
   "mimetype": "text/x-python",
   "name": "python",
   "nbconvert_exporter": "python",
   "pygments_lexer": "ipython3",
   "version": "3.9.7"
  }
 },
 "nbformat": 4,
 "nbformat_minor": 2
}

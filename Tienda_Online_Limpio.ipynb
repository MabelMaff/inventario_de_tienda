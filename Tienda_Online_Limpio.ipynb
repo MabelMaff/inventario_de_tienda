{
 "cells": [
  {
   "cell_type": "code",
   "execution_count": 1,
   "metadata": {},
   "outputs": [],
   "source": [
    "class TiendaOnline:\n",
    "    # Inicializar la clase TiendaOnline con atributos básicos y creación de constructor.\n",
    "    def __init__(self):\n",
    "        # Diccionario con listas para nombres, precios y cantidades de productos.\n",
    "        self.diccionario_listas = {'nombre': [], 'precio': [], 'cantidad': []}\n",
    "        # Diccionario para almacenar información sobre los clientes.\n",
    "        self.clientes = {}\n",
    "        # Variable para llevar un registro de las ventas totales.\n",
    "        self.ventas_totales = 0\n",
    "        # Diccionario para el carrito de compras de los usuarios.\n",
    "        self.carrito = {}\n",
    "        # Variable para el total comprado en una compra.\n",
    "        self.total_compra = 0\n",
    "    \n",
    "    # Método para agregar productos al inventario.\n",
    "    def agregar_producto(self):\n",
    "        # Solicita al usuario el nombre del producto y lo convierte a minúsculas.\n",
    "        nombre_proporcionado = input(\"Introduzca aquí el nombre para agregar al inventario: \").lower()\n",
    "        \n",
    "        # Comprueba si el producto ya existe en el inventario.\n",
    "        if nombre_proporcionado in self.diccionario_listas['nombre']:\n",
    "            # Encuentra la ubicación del producto en la lista de nombres.\n",
    "            indice = self.diccionario_listas['nombre'].index(nombre_proporcionado)\n",
    "            print(f\"El producto {nombre_proporcionado.capitalize()} ya existe en el inventario.\")\n",
    "            \n",
    "            # Pide al usuario la cantidad de producto que desea añadir al inventario.\n",
    "            cantidad_proporcionada = int(input(f\"Por favor, introduce la cantidad de {nombre_proporcionado.capitalize()} para añadir al inventario.\"))\n",
    "            # Añade la cantidad que nos da el usuario a la cantidad existente en el inventario.\n",
    "            self.diccionario_listas['cantidad'][indice] += cantidad_proporcionada\n",
    "            \n",
    "            print(f\"Se han añadido {cantidad_proporcionada} unidades de {nombre_proporcionado.capitalize()} al inventario.\")\n",
    "            print(f\"Ahora, hay un total de {self.diccionario_listas['cantidad'][indice]}.\")\n",
    "        \n",
    "        # Si el producto no está en el inventario, lo añade.\n",
    "        elif nombre_proporcionado not in self.diccionario_listas['nombre']:\n",
    "            print(f\"{nombre_proporcionado.capitalize()} no existe en el inventario.\")\n",
    "            # Pide al usuario el precio y la cantidad del nuevo producto.\n",
    "            precio_proporcionado = float(input(f\"Por favor, introduzca el precio de {nombre_proporcionado} \"))\n",
    "            cantidad_proporcionada = int(input(f\"Introduzca ahora la cantidad de {nombre_proporcionado}\"))\n",
    "            \n",
    "            # Añade el nuevo producto a las listas de nombres, precios y cantidades.\n",
    "            self.diccionario_listas['nombre'].append(nombre_proporcionado)\n",
    "            self.diccionario_listas['cantidad'].append(cantidad_proporcionada)\n",
    "            self.diccionario_listas['precio'].append(precio_proporcionado)\n",
    "            print(f\"{nombre_proporcionado.capitalize()} ha sido añadido al inventario, con un precio de {precio_proporcionado}€ y {cantidad_proporcionada} unidades.\")\n",
    "    \n",
    "    # Método para mostrar todos los productos en el inventario.\n",
    "    def ver_inventario(self):\n",
    "        # Itera sobre los nombres, precios y cantidades y los imprime.\n",
    "        for nombre, cantidad, precio in zip(self.diccionario_listas['nombre'], self.diccionario_listas['cantidad'], self.diccionario_listas['precio']):\n",
    "            print(f\"'nombre': {nombre}, 'cantidad': {cantidad} 'precio': {precio}\")\n",
    "        # Devuelve las listas de nombres, cantidades y precios, para nosotros no para el usuario.\n",
    "        return self.diccionario_listas['nombre'], self.diccionario_listas['cantidad'], self.diccionario_listas['precio']\n",
    "    \n",
    "    # Método para buscar un producto específico en el inventario.\n",
    "    def buscar_producto(self):\n",
    "        # Pide al usuario el nombre del producto que quiere buscar.\n",
    "        buscar_pornombre = input(\"Introduce el nombre del producto que quieras buscar en el inventario: \").lower()\n",
    "        # Itera sobre la lista de nombres de productos.\n",
    "        for producto in range(len(self.diccionario_listas['nombre'])):\n",
    "            # Si encuentra el producto, imprime sus detalles en el inventario.\n",
    "            if self.diccionario_listas['nombre'][producto] == buscar_pornombre:\n",
    "                print(f\"Nombre: {self.diccionario_listas['nombre'][producto]}, Precio: {self.diccionario_listas['precio'][producto]}€, Cantidad: {self.diccionario_listas['cantidad'][producto]}\")\n",
    "                continue\n",
    "        # Si el producto no se encuentra después de la búsqueda, informa al usuario.\n",
    "        if producto not in range(len(self.diccionario_listas['nombre'])):\n",
    "            print(f\"El producto {buscar_pornombre.capitalize()} no está en el inventario. Deberás introducirlo.\")\n",
    "\n",
    "    # Método para actualizar la cantidad de stock de un producto.\n",
    "    def actualizar_stock(self, nombre, cantidad):\n",
    "        nombre = nombre.lower()  # Normaliza el nombre para asegurar la búsqueda.\n",
    "        # Verifica si el producto está en el inventario.\n",
    "        if nombre in self.diccionario_listas['nombre']:\n",
    "            indice = self.diccionario_listas['nombre'].index(nombre)\n",
    "            # Actualiza la cantidad de stock del producto.\n",
    "            self.diccionario_listas['cantidad'][indice] += cantidad\n",
    "            print(f\"El stock de {nombre.capitalize()} ha sido actualizado a {self.diccionario_listas['cantidad'][indice]} unidades.\")\n",
    "        else:\n",
    "            # Informa de si el producto no está disponible.\n",
    "            print(f\"El producto {nombre.capitalize()} no está en el inventario.\")\n",
    "    \n",
    "    # Método para eliminar un producto del inventario.\n",
    "    def eliminar_producto(self, nombre):\n",
    "        nombre = nombre.lower()  # Normaliza el nombre para asegurar la búsqueda.\n",
    "        # Verifica si el producto está en el inventario.\n",
    "        if nombre in self.diccionario_listas['nombre']:\n",
    "            indice = self.diccionario_listas['nombre'].index(nombre)\n",
    "            # Elimina el producto del inventario.\n",
    "            del self.diccionario_listas['nombre'][indice]\n",
    "            del self.diccionario_listas['precio'][indice]\n",
    "            del self.diccionario_listas['cantidad'][indice]\n",
    "            # Confirma la eliminación.\n",
    "            print(f\"{nombre.capitalize()} ha sido eliminado del inventario.\")\n",
    "        else:\n",
    "            # Informa de que el producto no está disponible y no puede ser eliminado.\n",
    "            print(f\"El producto {nombre.capitalize()} no está en el inventario.\")\n",
    "    \n",
    "    def calcular_valor_inventario(self):\n",
    "        valor_total = 0  # Iniciamos el valor total del inventario a cero.\n",
    "    # Iteramos sobre cada índice de la lista de nombres de productos.\n",
    "        for i in range(len(self.diccionario_listas['nombre'])):\n",
    "        # Calculamos el valor del producto multiplicando su precio por su cantidad en el inventario.\n",
    "            valor_producto = self.diccionario_listas['precio'][i] * self.diccionario_listas['cantidad'][i]\n",
    "        # Sumamos el valor calculado del producto al valor total del inventario.\n",
    "            valor_total += valor_producto\n",
    "\n",
    "    # Imprimimos el valor total del inventario para el usuario.\n",
    "        print(f\"El valor total del inventario es de {valor_total}€\")\n",
    "    # Sacamos el valor total del inventario para nosotros.\n",
    "        return valor_total\n",
    "    def realizar_compra(self):\n",
    "    while True:# Iniciamos un bucle.\n",
    "        print(\"Los productos disponibles en la tienda online son los siguientes\")\n",
    "            # Mostramos todos los productos disponibles.\n",
    "            for nombre, precio, cantidad in zip(self.diccionario_listas['nombre'], self.diccionario_listas['precio'], self.diccionario_listas['cantidad']):\n",
    "                print(f\"Producto: {nombre.capitalize()}, Precio: {precio}€, Cantidad disponible: {cantidad}\")\n",
    "            # Solicitamos al usuario el nombre del producto que quiere comprar o si quiere salir del programa.\n",
    "            producto_seleccionado = input(\"Introduce el nombre del producto que deseas comprar o pulsa 'n' y la tecla 'Enter'en tu teclado para ir al carrito.\").lower()\n",
    "            #Para salir del bucle.\n",
    "            if producto_seleccionado == 'n':\n",
    "                break  # Salir del bucle si el usuario decide no continuar comprando, y así no permitimos que se infinite. \n",
    "\n",
    "            if producto_seleccionado in self.diccionario_listas['nombre']:# Verificamos si el producto está en el inventario.\n",
    "                indice = self.diccionario_listas['nombre'].index(producto_seleccionado)# Sacamos el índice del producto\n",
    "                cantidad_comprar = int(input(f\"Dinos la cantidad que quieres comprar de {producto_seleccionado}.\")) # Pedimos la cantidad de producto.\n",
    "\n",
    "                if cantidad_comprar <= self.diccionario_listas['cantidad'][indice]:# Comprobamos si hay suficiente producto en stock.\n",
    "                    # Añadimos el producto al carrito o actualizamos la cantidad si ya estaba.\n",
    "                    if producto_seleccionado not in self.carrito:\n",
    "                        self.carrito[producto_seleccionado] = cantidad_comprar\n",
    "                    else:\n",
    "                        self.carrito[producto_seleccionado] += cantidad_comprar\n",
    "                    # Restamos la cantidad de producto en el inventario.\n",
    "                    self.diccionario_listas['cantidad'][indice] -= cantidad_comprar\n",
    "                    # Calculamos el coste y lo sumamos al total de la compra.\n",
    "                    self.total_compra += self.diccionario_listas['precio'][indice] * cantidad_comprar\n",
    "                    print(f\"¡Enhorabuena! Has añadido {cantidad_comprar} unidades de {producto_seleccionado} al carrito.\")\n",
    "                else:\n",
    "                    print(\"Lo sentimos. No hay suficiente cantidad disponible de ese producto ahora mismo.\")\n",
    "            else:\n",
    "                print(f\"{producto_seleccionado.capitalize()} no está disponible en el inventario.\")\n",
    "        # Mostramos el resumen de la compra.\n",
    "        print(\"Aquí tienes el resumen de tu compra:\")\n",
    "        for producto, cantidad in self.carrito.items():\n",
    "            print(f\"{producto} : {cantidad} unidades\")\n",
    "        print(f\"El coste total de tu compra es de: {self.total_compra}€\")\n",
    "      "
   ]
  },
  {
   "cell_type": "code",
   "execution_count": 2,
   "metadata": {},
   "outputs": [],
   "source": [
    "tienda = TiendaOnline ()"
   ]
  },
  {
   "cell_type": "code",
   "execution_count": 6,
   "metadata": {},
   "outputs": [
    {
     "name": "stdout",
     "output_type": "stream",
     "text": [
      "Macbook no existe en el inventario.\n",
      "Macbook ha sido añadido al inventario, con un precio de 856.0€ y 10 unidades.\n"
     ]
    }
   ],
   "source": [
    "tienda.agregar_producto ()"
   ]
  },
  {
   "cell_type": "code",
   "execution_count": 7,
   "metadata": {},
   "outputs": [
    {
     "name": "stdout",
     "output_type": "stream",
     "text": [
      "'nombre': telefono, 'cantidad': 20 'precio': 50.0\n",
      "'nombre': ps3, 'cantidad': 5 'precio': 150.5\n",
      "'nombre': macbook, 'cantidad': 10 'precio': 856.0\n"
     ]
    },
    {
     "data": {
      "text/plain": [
       "(['telefono', 'ps3', 'macbook'], [20, 5, 10], [50.0, 150.5, 856.0])"
      ]
     },
     "execution_count": 7,
     "metadata": {},
     "output_type": "execute_result"
    }
   ],
   "source": [
    "tienda.ver_inventario ()"
   ]
  },
  {
   "cell_type": "code",
   "execution_count": 9,
   "metadata": {},
   "outputs": [],
   "source": [
    "tienda.buscar_producto ()"
   ]
  },
  {
   "cell_type": "code",
   "execution_count": 11,
   "metadata": {},
   "outputs": [
    {
     "name": "stdout",
     "output_type": "stream",
     "text": [
      "El stock de Ps3 ha sido actualizado a 15 unidades.\n"
     ]
    }
   ],
   "source": [
    "tienda.actualizar_stock ('PS3', 5)"
   ]
  },
  {
   "cell_type": "code",
   "execution_count": 13,
   "metadata": {},
   "outputs": [
    {
     "name": "stdout",
     "output_type": "stream",
     "text": [
      "Macbook ha sido eliminado del inventario.\n"
     ]
    }
   ],
   "source": [
    "tienda.eliminar_producto ('MACBOOK')"
   ]
  },
  {
   "cell_type": "code",
   "execution_count": 14,
   "metadata": {},
   "outputs": [
    {
     "name": "stdout",
     "output_type": "stream",
     "text": [
      "'nombre': telefono, 'cantidad': 20 'precio': 50.0\n",
      "'nombre': ps3, 'cantidad': 15 'precio': 150.5\n"
     ]
    },
    {
     "data": {
      "text/plain": [
       "(['telefono', 'ps3'], [20, 15], [50.0, 150.5])"
      ]
     },
     "execution_count": 14,
     "metadata": {},
     "output_type": "execute_result"
    }
   ],
   "source": [
    "tienda.ver_inventario ()"
   ]
  },
  {
   "cell_type": "code",
   "execution_count": 15,
   "metadata": {},
   "outputs": [
    {
     "name": "stdout",
     "output_type": "stream",
     "text": [
      "El valor total del inventario es de 3257.5€\n"
     ]
    },
    {
     "data": {
      "text/plain": [
       "3257.5"
      ]
     },
     "execution_count": 15,
     "metadata": {},
     "output_type": "execute_result"
    }
   ],
   "source": [
    "tienda.calcular_valor_inventario ()"
   ]
  },
  {
   "cell_type": "code",
   "execution_count": 17,
   "metadata": {},
   "outputs": [
    {
     "name": "stdout",
     "output_type": "stream",
     "text": [
      "Los productos disponibles en la tienda online son los siguientes\n",
      "Producto: Telefono, Precio: 50.0€, Cantidad disponible: 20\n",
      "Producto: Ps3, Precio: 150.5€, Cantidad disponible: 15\n",
      "¡Enhorabuena! Has añadido 1 unidades de ps3 al carrito.\n",
      "Los productos disponibles en la tienda online son los siguientes\n",
      "Producto: Telefono, Precio: 50.0€, Cantidad disponible: 20\n",
      "Producto: Ps3, Precio: 150.5€, Cantidad disponible: 14\n",
      "¡Enhorabuena! Has añadido 2 unidades de telefono al carrito.\n",
      "Los productos disponibles en la tienda online son los siguientes\n",
      "Producto: Telefono, Precio: 50.0€, Cantidad disponible: 18\n",
      "Producto: Ps3, Precio: 150.5€, Cantidad disponible: 14\n",
      "Aquí tienes el resumen de tu compra:\n",
      "ps3 : 1 unidades\n",
      "telefono : 2 unidades\n",
      "El coste total de tu compra es de: 250.5€\n"
     ]
    }
   ],
   "source": [
    "tienda.realizar_compra ()"
   ]
  },
  {
   "cell_type": "code",
   "execution_count": null,
   "metadata": {},
   "outputs": [],
   "source": [
    "# Sacar prints de realizar_compra para que enseñe los prodcutos que tenemos antes de que compre. \n",
    "# Que salga un mensaje de \"ese producto no está en el inventario\" en buscar_producto.\n",
    "# Que el ¡Enhorabuna! salga también la segunda vez que compras un producto."
   ]
  }
 ],
 "metadata": {
  "kernelspec": {
   "display_name": "base",
   "language": "python",
   "name": "python3"
  },
  "language_info": {
   "codemirror_mode": {
    "name": "ipython",
    "version": 3
   },
   "file_extension": ".py",
   "mimetype": "text/x-python",
   "name": "python",
   "nbconvert_exporter": "python",
   "pygments_lexer": "ipython3",
   "version": "3.9.7"
  }
 },
 "nbformat": 4,
 "nbformat_minor": 2
}
